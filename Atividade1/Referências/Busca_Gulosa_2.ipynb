{
 "cells": [
  {
   "cell_type": "code",
   "execution_count": 1,
   "id": "480f7193-40e9-4be6-8b6a-a1c9622329c9",
   "metadata": {},
   "outputs": [],
   "source": [
    "data = {\n",
    "  \"start_time\": [2 , 6 , 4 , 10 , 13 , 7],\n",
    "  \"finish_time\": [5 , 10 , 8 , 12 , 14 , 15],\n",
    "  \"activity\": [\"Homework\" , \"Presentation\" , \"Term paper\" , \"Volleyball practice\" , \"Biology lecture\" , \"Hangout\"]\n",
    "}\n",
    "\n",
    "selected_activity =[]\n",
    "start_position = 0"
   ]
  },
  {
   "cell_type": "code",
   "execution_count": 3,
   "id": "d0f2c514-cc2c-4674-aab4-cd3442e12246",
   "metadata": {},
   "outputs": [],
   "source": [
    "tem = 0\n",
    "for i in range(0 , len(data['finish_time'])):\n",
    "   for j in range(0 , len(data['finish_time'])):\n",
    "       if data['finish_time'][i] < data['finish_time'][j]:\n",
    "           tem = data['activity'][i] , data['finish_time'][i] , data['start_time'][i]\n",
    "           data['activity'][i] , data['finish_time'][i] , data['start_time'][i] = data['activity'][j] , data['finish_time'][j] , data['start_time'][j]\n",
    "           data['activity'][j] , data['finish_time'][j] , data['start_time'][j] = tem"
   ]
  },
  {
   "cell_type": "code",
   "execution_count": 5,
   "id": "ca80e4bf-19ea-4d96-9502-b29fcf6b764f",
   "metadata": {},
   "outputs": [
    {
     "name": "stdout",
     "output_type": "stream",
     "text": [
      "Start time:  [2, 4, 6, 10, 13, 7]\n",
      "Finish time:  [5, 8, 10, 12, 14, 15]\n",
      "Activity:  ['Homework', 'Term paper', 'Presentation', 'Volleyball practice', 'Biology lecture', 'Hangout']\n"
     ]
    }
   ],
   "source": [
    "print(\"Start time: \" , data['start_time'])\n",
    "print(\"Finish time: \" , data['finish_time'])\n",
    "print(\"Activity: \" , data['activity'])\n"
   ]
  },
  {
   "cell_type": "code",
   "execution_count": 7,
   "id": "e45f8644-2fce-4f38-aecd-4c4c3db40ea3",
   "metadata": {},
   "outputs": [],
   "source": [
    "selected_activity.append(data['activity'][start_position])"
   ]
  },
  {
   "cell_type": "code",
   "execution_count": 9,
   "id": "ed054203-4d34-48a1-8c0c-99b92f5a7872",
   "metadata": {},
   "outputs": [
    {
     "name": "stdout",
     "output_type": "stream",
     "text": [
      "The student can work on the following activities: ['Homework', 'Presentation', 'Volleyball practice', 'Biology lecture']\n"
     ]
    }
   ],
   "source": [
    "for pos in range(len(data['finish_time'])):\n",
    "   if data['start_time'][pos] >= data['finish_time'][start_position]:\n",
    "       selected_activity.append(data['activity'][pos])\n",
    "       start_position = pos\n",
    "\n",
    "print(f\"The student can work on the following activities: {selected_activity}\")"
   ]
  },
  {
   "cell_type": "code",
   "execution_count": null,
   "id": "998da7db-363a-4a09-b3ba-bb9d9044bebf",
   "metadata": {},
   "outputs": [],
   "source": []
  }
 ],
 "metadata": {
  "kernelspec": {
   "display_name": "Python 3 (ipykernel)",
   "language": "python",
   "name": "python3"
  },
  "language_info": {
   "codemirror_mode": {
    "name": "ipython",
    "version": 3
   },
   "file_extension": ".py",
   "mimetype": "text/x-python",
   "name": "python",
   "nbconvert_exporter": "python",
   "pygments_lexer": "ipython3",
   "version": "3.9.13"
  }
 },
 "nbformat": 4,
 "nbformat_minor": 5
}
