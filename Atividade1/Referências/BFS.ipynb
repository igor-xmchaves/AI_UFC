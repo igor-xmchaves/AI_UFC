{
 "cells": [
  {
   "cell_type": "code",
   "execution_count": 1,
   "id": "9a2a87a8-814c-4926-b853-84afb7cd6e79",
   "metadata": {},
   "outputs": [],
   "source": [
    "# Algoritmo para Busca em Largura\n",
    "from collections import defaultdict"
   ]
  },
  {
   "cell_type": "code",
   "execution_count": 2,
   "id": "fe05a8e7-71db-4401-8969-9a7249db868d",
   "metadata": {},
   "outputs": [],
   "source": [
    "class Graph:\n",
    "    def __init__(self):\n",
    "        self.graph = defaultdict(list)\n",
    "    def addEdge(self,u,v):\n",
    "        self.graph[u].append(v)\n",
    "    def BFS(self,s):\n",
    "        visitados = [False]*len(self.graph)\n",
    "        queue = []\n",
    "        queue.append(s)\n",
    "        visitados[s] = True\n",
    "        while queue:\n",
    "\n",
    "            s = queue.pop(0)\n",
    "            print(s, \" \")\n",
    "            for i in self.graph[s]:\n",
    "                print(\"Nó %d - Visitado = %d\" %(i,visitados[i]))\n",
    "                if visitados[i] == False:\n",
    "                    queue.append(i)\n",
    "                    visitados[i] = True\n",
    "                    \n",
    "\n",
    "\n",
    "\n",
    "\n",
    "\n",
    "    \n",
    "    "
   ]
  },
  {
   "cell_type": "code",
   "execution_count": 3,
   "id": "484bb65e-5a68-4faf-a62f-a14efa1bf716",
   "metadata": {},
   "outputs": [],
   "source": [
    "g = Graph()\n",
    "g.addEdge(0,2)\n",
    "g.addEdge(0,3)\n",
    "g.addEdge(0,4)\n",
    "g.addEdge(1,2)\n",
    "g.addEdge(1,4)\n",
    "g.addEdge(2,4)\n",
    "g.addEdge(3,4)\n",
    "g.addEdge(3,5)\n",
    "g.addEdge(4,5)\n",
    "g.addEdge(5,1)\n",
    "\n"
   ]
  },
  {
   "cell_type": "code",
   "execution_count": 4,
   "id": "e700d9c9-56c5-4e23-9e5d-9845e89e3b34",
   "metadata": {},
   "outputs": [
    {
     "name": "stdout",
     "output_type": "stream",
     "text": [
      "Segue a execução do BFS, começando pelo vértice 0 !\n",
      "0  \n",
      "Nó 2 - Visitado = 0\n",
      "Nó 3 - Visitado = 0\n",
      "Nó 4 - Visitado = 0\n",
      "2  \n",
      "Nó 4 - Visitado = 1\n",
      "3  \n",
      "Nó 4 - Visitado = 1\n",
      "Nó 5 - Visitado = 0\n",
      "4  \n",
      "Nó 5 - Visitado = 1\n",
      "5  \n",
      "Nó 1 - Visitado = 0\n",
      "1  \n",
      "Nó 2 - Visitado = 1\n",
      "Nó 4 - Visitado = 1\n"
     ]
    }
   ],
   "source": [
    "print(\"Segue a execução do BFS, começando pelo vértice 0 !\")\n",
    "g.BFS(0)"
   ]
  },
  {
   "cell_type": "code",
   "execution_count": null,
   "id": "71bf02eb-88e9-43ad-ae60-a142efe91f0a",
   "metadata": {},
   "outputs": [],
   "source": []
  }
 ],
 "metadata": {
  "kernelspec": {
   "display_name": "Python 3 (ipykernel)",
   "language": "python",
   "name": "python3"
  },
  "language_info": {
   "codemirror_mode": {
    "name": "ipython",
    "version": 3
   },
   "file_extension": ".py",
   "mimetype": "text/x-python",
   "name": "python",
   "nbconvert_exporter": "python",
   "pygments_lexer": "ipython3",
   "version": "3.12.3"
  }
 },
 "nbformat": 4,
 "nbformat_minor": 5
}
