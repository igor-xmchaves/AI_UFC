{
 "cells": [
  {
   "cell_type": "code",
   "execution_count": 35,
   "metadata": {},
   "outputs": [],
   "source": [
    "from heapq import heapify, heappop, heappush"
   ]
  },
  {
   "cell_type": "code",
   "execution_count": 36,
   "metadata": {},
   "outputs": [],
   "source": [
    "class Graph:\n",
    "\n",
    "    def __init__(self, graph: dict = {}):\n",
    "        self.graph = graph  # Dicionário para lista de adjacência\n",
    "    \n",
    "    def add_edge(self, node1, node2, weight):\n",
    "        if node1 not in self.graph: # Checa se o nó já foi adicionado\n",
    "            self.graph[node1] = {}  # Se não, crie esse nó\n",
    "        self.graph[node1][node2] = weight   # Crie uma conecção com seu vizinho\n",
    "\n",
    "    def shortest_distances(self, source: str):\n",
    "        # Inicializa os valores de todos os nodos com infinito \n",
    "        distances = {node: float(\"inf\") for node in self.graph}\n",
    "        distances[source] = 0   # Valor de source = 0\n",
    "\n",
    "        # Inicializa uma fila de prioridade\n",
    "        pq = [(0, source)]\n",
    "        heapify(pq)\n",
    "\n",
    "        # Cria um conjunto para guardar os nó visitados\n",
    "        visited = set()\n",
    "\n",
    "        while pq:   # Enquanto a fila de prioridade não estiver vazia\n",
    "            current_distance, current_node = heappop(pq)    # Recebe o nó com a menor distância\n",
    "\n",
    "            if current_node in visited:\n",
    "                continue    # Pula os nó que já foram visitados\n",
    "            visited.add(current_node)   # Se não, adiciona o nó ao conjuntos de nós visitados\n",
    "\n",
    "            for neighbor, weight in self.graph[current_node].items():\n",
    "                # Calcula a distância do nó atual para seu vizinho\n",
    "                tentative_distance = current_distance + weight\n",
    "                if tentative_distance < distances[neighbor]:\n",
    "                    distances[neighbor] = tentative_distance\n",
    "                    heappush(pq, (tentative_distance, neighbor))\n",
    "        \n",
    "        predecessors = {node: None for node in self.graph}\n",
    "\n",
    "        for node, distance in distances.items():\n",
    "            for neighbor, weight in self.graph[node].items():\n",
    "                if distances[neighbor] == distance + weight:\n",
    "                    predecessors[neighbor] = node\n",
    "        \n",
    "        return distances, predecessors\n",
    "    \n",
    "    def shortest_path(self, source: str, target: str):\n",
    "        # Gera um dicionário para os nós antecessores \n",
    "        _, predecessors = self.shortest_distances(source)\n",
    "\n",
    "        path = []\n",
    "        current_node = target\n",
    "\n",
    "        # retrocede o caminho do nó de chegada usando os nós antecessores\n",
    "        while current_node:\n",
    "            path.append(current_node)\n",
    "            current_node = predecessors[current_node]\n",
    "        \n",
    "        # reverte o caminho e o retorna\n",
    "        path.reverse()\n",
    "\n",
    "        return path\n"
   ]
  },
  {
   "cell_type": "code",
   "execution_count": 37,
   "metadata": {},
   "outputs": [],
   "source": [
    "graph = {\n",
    "    \"A\": {\"B\": 3, \"C\": 3},\n",
    "    \"B\": {\"A\": 3, \"D\": 3.5, \"E\": 2.8},\n",
    "    \"C\": {\"A\": 3, \"E\": 2.8, \"F\": 3.5},\n",
    "    \"D\": {\"B\": 3.5, \"E\": 3.1, \"G\": 10},\n",
    "    \"E\": {\"B\": 2.8, \"C\": 2.8 , \"D\": 3.1, \"G\": 7},\n",
    "    \"F\": {\"C\": 3.5, \"G\": 2.5},\n",
    "    \"G\": {\"D\": 10, \"E\": 7, \"F\": 2.5},\n",
    "}"
   ]
  },
  {
   "cell_type": "code",
   "execution_count": 38,
   "metadata": {},
   "outputs": [
    {
     "data": {
      "text/plain": [
       "{'A': {'B': 3, 'C': 3},\n",
       " 'B': {'A': 3, 'D': 3.5, 'E': 2.8},\n",
       " 'C': {'A': 3, 'E': 2.8, 'F': 3.5},\n",
       " 'D': {'B': 3.5, 'E': 3.1, 'G': 10},\n",
       " 'E': {'B': 2.8, 'C': 2.8, 'D': 3.1, 'G': 7},\n",
       " 'F': {'C': 3.5, 'G': 2.5},\n",
       " 'G': {'D': 10, 'E': 7, 'F': 2.5}}"
      ]
     },
     "execution_count": 38,
     "metadata": {},
     "output_type": "execute_result"
    }
   ],
   "source": [
    "G = Graph(graph)\n",
    "G.graph\n"
   ]
  },
  {
   "cell_type": "code",
   "execution_count": 44,
   "metadata": {},
   "outputs": [
    {
     "name": "stdout",
     "output_type": "stream",
     "text": [
      "{'A': 3, 'B': 0, 'C': 5.6, 'D': 3.5, 'E': 2.8, 'F': 9.1, 'G': 9.8}\n",
      "{'A': 'B', 'B': None, 'C': 'E', 'D': 'B', 'E': 'B', 'F': 'C', 'G': 'E'}\n"
     ]
    }
   ],
   "source": [
    "distances, predecessors = G.shortest_distances(\"B\")\n",
    "print(distances)\n",
    "print(predecessors)"
   ]
  },
  {
   "cell_type": "code",
   "execution_count": 45,
   "metadata": {},
   "outputs": [
    {
     "name": "stdout",
     "output_type": "stream",
     "text": [
      "A menor distância de B para F é 9.1\n"
     ]
    }
   ],
   "source": [
    "to_F = distances[\"F\"]\n",
    "print(f\"A menor distância de B para F é {to_F}\")"
   ]
  },
  {
   "cell_type": "code",
   "execution_count": 46,
   "metadata": {},
   "outputs": [
    {
     "data": {
      "text/plain": [
       "['B', 'E', 'C', 'F']"
      ]
     },
     "execution_count": 46,
     "metadata": {},
     "output_type": "execute_result"
    }
   ],
   "source": [
    "G.shortest_path(\"B\", \"F\")"
   ]
  }
 ],
 "metadata": {
  "kernelspec": {
   "display_name": "Python 3",
   "language": "python",
   "name": "python3"
  },
  "language_info": {
   "codemirror_mode": {
    "name": "ipython",
    "version": 3
   },
   "file_extension": ".py",
   "mimetype": "text/x-python",
   "name": "python",
   "nbconvert_exporter": "python",
   "pygments_lexer": "ipython3",
   "version": "3.12.3"
  }
 },
 "nbformat": 4,
 "nbformat_minor": 2
}
